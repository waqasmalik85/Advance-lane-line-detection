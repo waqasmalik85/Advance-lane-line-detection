{
 "cells": [
  {
   "cell_type": "markdown",
   "metadata": {},
   "source": [
    "# Advance lane detection"
   ]
  },
  {
   "cell_type": "markdown",
   "metadata": {},
   "source": [
    "## *Import modules*"
   ]
  },
  {
   "cell_type": "code",
   "execution_count": null,
   "metadata": {
    "collapsed": true
   },
   "outputs": [],
   "source": [
    "import matplotlib.pyplot as plt\n",
    "import matplotlib.image as mpimg\n",
    "import numpy as np\n",
    "import cv2\n",
    "import glob\n",
    "%matplotlib inline\n",
    "from moviepy.editor import VideoFileClip\n",
    "from IPython.display import HTML\n",
    "import pickle\n",
    "import os"
   ]
  },
  {
   "cell_type": "markdown",
   "metadata": {},
   "source": [
    "## *Find chessboard corners*"
   ]
  },
  {
   "cell_type": "code",
   "execution_count": null,
   "metadata": {
    "collapsed": false
   },
   "outputs": [],
   "source": [
    "nx = 9\n",
    "ny = 6\n",
    "\n",
    "# prepare object points, like (0,0,0), (1,0,0), (2,0,0) ....,(6,5,0)\n",
    "objp = np.zeros((ny*nx,3), np.float32)\n",
    "objp[:,:2] = np.mgrid[0:nx, 0:ny].T.reshape(-1,2)\n",
    "\n",
    "# Arrays to store object points and image points from all the images.\n",
    "objpoints = [] # 3d points in real world space\n",
    "imgpoints = [] # 2d points in image plane.\n",
    "\n",
    "# Make a list of calibration images\n",
    "images = glob.glob(r'C:\\Users\\sbx1238\\Documents\\p4\\CarND-Advanced-Lane-Lines\\camera_cal\\calibration*.jpg')\n",
    "\n",
    "# Step through the list and search for chessboard corners\n",
    "for idx, fname in enumerate(images):\n",
    "    img = cv2.imread(fname)\n",
    "    gray = cv2.cvtColor(img, cv2.COLOR_BGR2GRAY)\n",
    "\n",
    "    # Find the chessboard corners\n",
    "    ret, corners = cv2.findChessboardCorners(gray, (nx,ny), None)\n",
    "\n",
    "    # If found, add object points, image points\n",
    "    if ret == True:\n",
    "        objpoints.append(objp)\n",
    "        imgpoints.append(corners)\n",
    "\n",
    "        # Draw and display the corners\n",
    "        cv2.drawChessboardCorners(img, (nx,ny), corners, ret)\n",
    "        path = 'C:/Users/sbx1238/Documents/p4/CarND-Advanced-Lane-Lines/res_chessboard/'\n",
    "        write_name = path+'corners_found'+str(idx)+'.jpg'\n",
    "        cv2.imwrite(write_name, img)\n",
    "       \n",
    "        plt.figure()\n",
    "        plt.imshow(img)\n",
    "        "
   ]
  },
  {
   "cell_type": "markdown",
   "metadata": {},
   "source": [
    "## *Calibrate camera*"
   ]
  },
  {
   "cell_type": "code",
   "execution_count": null,
   "metadata": {
    "collapsed": false
   },
   "outputs": [],
   "source": [
    "img = cv2.imread(r'C:\\Users\\sbx1238\\Documents\\p4\\CarND-Advanced-Lane-Lines\\camera_cal\\calibration1.jpg')\n",
    "img_size = (img.shape[1], img.shape[0])\n",
    "\n",
    "ret, mtx, dist, rvecs, tvecs = cv2.calibrateCamera(objpoints, imgpoints, img_size,None,None)\n",
    "#dst = cv2.undistort(img, mtx, dist, None, mtx)\n",
    "\n",
    "for idx, fname in enumerate(images):\n",
    "    img = cv2.imread(fname)\n",
    "    dst = cv2.undistort(img, mtx, dist, None, mtx)\n",
    "    path = 'C:/Users/sbx1238/Documents/p4/CarND-Advanced-Lane-Lines/res_camera_cal/'\n",
    "    write_name = path+'undistorted'+str(idx)+'.jpg'\n",
    "    cv2.imwrite(write_name, dst)\n",
    "    f, (ax1, ax2) = plt.subplots(1, 2, figsize=(20,10))\n",
    "    ax1.imshow(img)\n",
    "    ax1.set_title('Original Image', fontsize=30)\n",
    "    ax2.imshow(dst)\n",
    "    ax2.set_title('Undistorted Image', fontsize=30)"
   ]
  },
  {
   "cell_type": "markdown",
   "metadata": {
    "collapsed": false
   },
   "source": [
    " ## *Read in test images*"
   ]
  },
  {
   "cell_type": "code",
   "execution_count": null,
   "metadata": {
    "collapsed": false
   },
   "outputs": [],
   "source": [
    "os.listdir(\"test_images/\")"
   ]
  },
  {
   "cell_type": "code",
   "execution_count": null,
   "metadata": {
    "collapsed": true
   },
   "outputs": [],
   "source": [
    "def read_image(image_path):\n",
    "    return mpimg.imread(image_path)"
   ]
  },
  {
   "cell_type": "code",
   "execution_count": null,
   "metadata": {
    "collapsed": true
   },
   "outputs": [],
   "source": [
    "# Read in the test images\n",
    "test_images = [read_image('test_images/' + i) for i in os.listdir('test_images/')]"
   ]
  },
  {
   "cell_type": "markdown",
   "metadata": {},
   "source": [
    "## *Distortion correction* "
   ]
  },
  {
   "cell_type": "code",
   "execution_count": null,
   "metadata": {
    "collapsed": false
   },
   "outputs": [],
   "source": [
    "undist_images = []\n",
    "for i in range(len(test_images)):\n",
    "    image = test_images[i]\n",
    "    undist_image = cv2.undistort(image, mtx, dist, None, mtx)\n",
    "    undist_images.append(undist_image)\n",
    "    path = 'C:/Users/sbx1238/Documents/p4/CarND-Advanced-Lane-Lines/undist_test_images/'\n",
    "    write_name = path+'undistorted'+str(i)+'.jpg'\n",
    "    mpimg.imsave(write_name, undist_image)\n",
    "    f, (ax1, ax2) = plt.subplots(1, 2, figsize=(20,10))\n",
    "    ax1.imshow(image)\n",
    "    ax1.set_title('Original Image', fontsize=30)\n",
    "    ax2.imshow(undist_image)\n",
    "    ax2.set_title('Undistorted Image', fontsize=30)"
   ]
  },
  {
   "cell_type": "markdown",
   "metadata": {},
   "source": [
    "## *Perspective transform*"
   ]
  },
  {
   "cell_type": "code",
   "execution_count": null,
   "metadata": {
    "collapsed": true
   },
   "outputs": [],
   "source": [
    "def drawlines(image, points, color=[255, 0, 0], thickness=3):\n",
    "    p1, p2, p3, p4 = points\n",
    "    cv2.line(image, tuple(p1), tuple(p2), color, thickness)\n",
    "    cv2.line(image, tuple(p2), tuple(p3), color, thickness)\n",
    "    cv2.line(image, tuple(p3), tuple(p4), color, thickness)\n",
    "    cv2.line(image, tuple(p4), tuple(p1), color, thickness)"
   ]
  },
  {
   "cell_type": "code",
   "execution_count": null,
   "metadata": {
    "collapsed": false
   },
   "outputs": [],
   "source": [
    "def perspective_transform(image, debug=False, size_top=70, size_bottom=370,reverse=False,drawLines=False):\n",
    "    height, width = image.shape[0:2]\n",
    "    output_size = height/2\n",
    "    \n",
    "    if (reverse==False):\n",
    "        src = np.float32([[298,662],[602,447],[683,447],[1020,662]])\n",
    "        dst = np.float32([[280,700],[280,0],[920,0],[920,700]])\n",
    "    else:\n",
    "        dst = np.float32([[298,662],[602,447],[683,447],[1020,662]])\n",
    "        src = np.float32([[280,700],[280,0],[920,0],[920,700]])\n",
    "  \n",
    "                \n",
    "    \n",
    "  \n",
    "    M = cv2.getPerspectiveTransform(src, dst)\n",
    "    warped = cv2.warpPerspective(image, M, (width, height), flags=cv2.INTER_LINEAR)\n",
    "    if drawLines==True:\n",
    "            drawlines(image, src, [255, 0, 0])\n",
    "            drawlines(warped, dst, [255, 0, 0])\n",
    "    \n",
    "    \n",
    "        \n",
    "    return warped"
   ]
  },
  {
   "cell_type": "code",
   "execution_count": null,
   "metadata": {
    "collapsed": false
   },
   "outputs": [],
   "source": [
    "warped_images = []\n",
    "for i in range(len(undist_images)):\n",
    "    image = undist_images[i]\n",
    "    warped_image = perspective_transform(image,drawLines=False)\n",
    "    warped_images.append(warped_image)\n",
    "    path = 'C:/Users/sbx1238/Documents/p4/CarND-Advanced-Lane-Lines/warped_test_images/'\n",
    "    write_name = path+'warped'+str(i)+'.jpg'\n",
    "    mpimg.imsave(write_name, image)\n",
    "    f, (ax1, ax2) = plt.subplots(1, 2, figsize=(20,10))\n",
    "    ax1.imshow(image)\n",
    "    ax1.set_title('Undistorted Image', fontsize=30)\n",
    "    ax2.imshow(warped_image)\n",
    "    ax2.set_title('Warped Image', fontsize=30)\n"
   ]
  },
  {
   "cell_type": "markdown",
   "metadata": {
    "collapsed": false
   },
   "source": [
    "## *Create combined threshold binary*"
   ]
  },
  {
   "cell_type": "code",
   "execution_count": null,
   "metadata": {
    "collapsed": false
   },
   "outputs": [],
   "source": [
    "len(warped_images)"
   ]
  },
  {
   "cell_type": "code",
   "execution_count": null,
   "metadata": {
    "collapsed": false
   },
   "outputs": [],
   "source": [
    "def lightness_saturation(img, s_thresh=(170, 255), sx_thresh=(20, 100),sy_thresh=(20,100)):\n",
    "    img = np.copy(img)\n",
    "    # Convert to HLS color space and separate L and S channels\n",
    "    hls = cv2.cvtColor(img, cv2.COLOR_RGB2HLS).astype(np.float)\n",
    "    l_channel = hls[:,:,1]\n",
    "    s_channel = hls[:,:,2]\n",
    "    # Sobel x\n",
    "    l_channel = cv2.cvtColor(img, cv2.COLOR_RGB2GRAY).astype(np.float)\n",
    "    #l_channel = cv2.equalizeHist(l_channel.astype('uint8'))\n",
    "    \n",
    "    \n",
    "    sobelx = cv2.Sobel(l_channel, cv2.CV_64F, 1, 0) # Take the derivative in x\n",
    "    abs_sobelx = np.absolute(sobelx) # Absolute x derivative to accentuate lines away from horizontal\n",
    "    scaled_sobel = np.uint8(255*abs_sobelx/np.max(abs_sobelx))\n",
    "    \n",
    "    \n",
    "    sobelx = cv2.Sobel(l_channel, cv2.CV_64F, 1, 0) # Take the derivative in x\n",
    "    abs_sobelx = np.absolute(sobelx) # Absolute x derivative to accentuate lines away from horizontal\n",
    "    scaled_sobel = np.uint8(255*abs_sobelx/np.max(abs_sobelx))\n",
    "    \n",
    "    # Threshold x gradient\n",
    "    sxbinary = np.zeros_like(scaled_sobel)\n",
    "    sxbinary[(scaled_sobel >= sx_thresh[0]) & (scaled_sobel <= sx_thresh[1])] = 1\n",
    "    \n",
    "    sobely = cv2.Sobel(l_channel, cv2.CV_64F, 0, 1) # Take the derivative in y\n",
    "    abs_sobely = np.absolute(sobely) # Absolute x derivative to accentuate lines away from horizontal\n",
    "    scaled_sobel = np.uint8(255*abs_sobely/np.max(abs_sobely))\n",
    "    \n",
    "    # Threshold y gradient\n",
    "    #sybinary = np.zeros_like(scaled_sobel)\n",
    "    #sybinary[(scaled_sobel >= sy_thresh[0]) | (scaled_sobel <= sy_thresh[1])] = 1\n",
    "    \n",
    "    #sxybinary = np.zeros_like(scaled_sobel)\n",
    "    #sxybinary[(sxbinary == 1) | (sybinary == 1)] == 1\n",
    "    \n",
    "    # Threshold color channel\n",
    "    s_binary = np.zeros_like(s_channel)\n",
    "    s_binary[(s_channel >= s_thresh[0]) & (s_channel <= s_thresh[1])] = 1\n",
    "    # Stack each channel\n",
    "    # Note color_binary[:, :, 0] is all 0s, effectively an all black image. It might\n",
    "    # be beneficial to replace this channel with something else.\n",
    "    ls_binary =  np.zeros_like(sxbinary)\n",
    "    ls_binary[(s_binary == 1) | (sxbinary == 1)] = 1\n",
    "    return ls_binary"
   ]
  },
  {
   "cell_type": "code",
   "execution_count": null,
   "metadata": {
    "collapsed": false
   },
   "outputs": [],
   "source": [
    "ls_binaries = []\n",
    "for i in range(len(warped_images)):\n",
    "    image = warped_images[i]\n",
    "    ls_binary = lightness_saturation(image)\n",
    "    ls_binaries.append(ls_binary)\n",
    "    path = 'C:/Users/sbx1238/Documents/p4/CarND-Advanced-Lane-Lines/binary_test_images/'\n",
    "    write_name = path+'binary'+str(i)+'.jpg'\n",
    "    mpimg.imsave(write_name, ls_binary,cmap='gray')\n",
    "    f, (ax1, ax2) = plt.subplots(1, 2, figsize=(20,10))\n",
    "    ax1.imshow(image)\n",
    "    ax1.set_title('Warped Image', fontsize=30)\n",
    "    ax2.imshow(ls_binary,cmap='gray')\n",
    "    ax2.set_title('Binary image', fontsize=30)"
   ]
  },
  {
   "cell_type": "markdown",
   "metadata": {},
   "source": [
    "## *Find out lane curves*"
   ]
  },
  {
   "cell_type": "code",
   "execution_count": null,
   "metadata": {
    "collapsed": false
   },
   "outputs": [],
   "source": [
    "def lane_finder(binary_warped,debug=False):\n",
    "    histogram = np.sum(binary_warped[int(binary_warped.shape[0]/2):,:], axis=0)\n",
    "    #plt.plot(histogram)\n",
    "    #plt.savefig('histogram.jpg')\n",
    "    # Create an output image to draw on and  visualize the result\n",
    "    out_img = np.dstack((binary_warped, binary_warped, binary_warped))*255\n",
    "    # Find the peak of the left and right halves of the histogram\n",
    "    # These will be the starting point for the left and right lines\n",
    "    midpoint = np.int(histogram.shape[0]/2)\n",
    "    leftx_base = np.argmax(histogram[:midpoint])\n",
    "    rightx_base = np.argmax(histogram[midpoint:]) + midpoint\n",
    "\n",
    "    # Choose the number of sliding windows\n",
    "    nwindows = 9\n",
    "    # Set height of windows\n",
    "    window_height = np.int(binary_warped.shape[0]/nwindows)\n",
    "    # Identify the x and y positions of all nonzero pixels in the image\n",
    "    nonzero = binary_warped.nonzero()\n",
    "    nonzeroy = np.array(nonzero[0])\n",
    "    nonzerox = np.array(nonzero[1])\n",
    "    # Current positions to be updated for each window\n",
    "    leftx_current = leftx_base\n",
    "    rightx_current = rightx_base\n",
    "    # Set the width of the windows +/- margin\n",
    "    margin = 100\n",
    "    # Set minimum number of pixels found to recenter window\n",
    "    minpix = 50\n",
    "    # Create empty lists to receive left and right lane pixel indices\n",
    "    left_lane_inds = []\n",
    "    right_lane_inds = []\n",
    "\n",
    "    # Step through the windows one by one\n",
    "    for window in range(nwindows):\n",
    "        # Identify window boundaries in x and y (and right and left)\n",
    "        win_y_low = binary_warped.shape[0] - (window+1)*window_height\n",
    "        win_y_high = binary_warped.shape[0] - window*window_height\n",
    "        win_xleft_low = leftx_current - margin\n",
    "        win_xleft_high = leftx_current + margin\n",
    "        win_xright_low = rightx_current - margin\n",
    "        win_xright_high = rightx_current + margin\n",
    "        # Draw the windows on the visualization image\n",
    "        cv2.rectangle(out_img,(win_xleft_low,win_y_low),(win_xleft_high,win_y_high),(0,255,0), 2) \n",
    "        cv2.rectangle(out_img,(win_xright_low,win_y_low),(win_xright_high,win_y_high),(0,255,0), 2) \n",
    "        \n",
    "        # Identify the nonzero pixels in x and y within the window\n",
    "        good_left_inds = ((nonzeroy >= win_y_low) & (nonzeroy < win_y_high) & (nonzerox >= win_xleft_low) & (nonzerox < win_xleft_high)).nonzero()[0]\n",
    "        good_right_inds = ((nonzeroy >= win_y_low) & (nonzeroy < win_y_high) & (nonzerox >= win_xright_low) & (nonzerox < win_xright_high)).nonzero()[0]\n",
    "        # Append these indices to the lists\n",
    "        left_lane_inds.append(good_left_inds)\n",
    "        right_lane_inds.append(good_right_inds)\n",
    "        # If you found > minpix pixels, recenter next window on their mean position\n",
    "        if len(good_left_inds) > minpix:\n",
    "            leftx_current = np.int(np.mean(nonzerox[good_left_inds]))\n",
    "        if len(good_right_inds) > minpix:        \n",
    "            rightx_current = np.int(np.mean(nonzerox[good_right_inds]))\n",
    "\n",
    "    # Concatenate the arrays of indices\n",
    "    left_lane_inds = np.concatenate(left_lane_inds)\n",
    "    right_lane_inds = np.concatenate(right_lane_inds)\n",
    "\n",
    "    # Extract left and right line pixel positions\n",
    "    leftx = nonzerox[left_lane_inds]\n",
    "    lefty = nonzeroy[left_lane_inds] \n",
    "    rightx = nonzerox[right_lane_inds]\n",
    "    righty = nonzeroy[right_lane_inds] \n",
    "\n",
    "    # Fit a second order polynomial to each\n",
    "    left_fit,left_cov = np.polyfit(lefty, leftx, 2,cov=True)\n",
    "    right_fit,right_cov = np.polyfit(righty, rightx, 2,cov=True)\n",
    "\n",
    "    ploty = np.linspace(0, binary_warped.shape[0]-1, binary_warped.shape[0] )\n",
    "    left_fitx = left_fit[0]*ploty**2 + left_fit[1]*ploty + left_fit[2]\n",
    "    right_fitx = right_fit[0]*ploty**2 + right_fit[1]*ploty + right_fit[2]\n",
    "\n",
    "    out_img[nonzeroy[left_lane_inds], nonzerox[left_lane_inds]] = [255, 0, 0]\n",
    "    out_img[nonzeroy[right_lane_inds], nonzerox[right_lane_inds]] = [0, 0, 255]\n",
    "    \n",
    "    if (debug==True):\n",
    "        \n",
    "        ploty = np.linspace(0, binary_warped.shape[0]-1, binary_warped.shape[0] )\n",
    "        left_fitx = left_fit[0]*ploty**2 + left_fit[1]*ploty + left_fit[2]\n",
    "        right_fitx = right_fit[0]*ploty**2 + right_fit[1]*ploty + right_fit[2]\n",
    "\n",
    "        out_img[nonzeroy[left_lane_inds], nonzerox[left_lane_inds]] = [255, 0, 0]\n",
    "        out_img[nonzeroy[right_lane_inds], nonzerox[right_lane_inds]] = [0, 0, 255]\n",
    "        plt.imshow(out_img)\n",
    "        plt.plot(left_fitx, ploty, color='yellow')\n",
    "        plt.plot(right_fitx, ploty, color='yellow')\n",
    "        plt.xlim(0, 1280)\n",
    "        plt.ylim(720, 0)\n",
    "        \n",
    "        \n",
    "    \n",
    "    return (left_fit,left_cov,right_fit,right_cov)"
   ]
  },
  {
   "cell_type": "markdown",
   "metadata": {},
   "source": [
    "## *Find out lane curves based on history*"
   ]
  },
  {
   "cell_type": "code",
   "execution_count": null,
   "metadata": {
    "collapsed": false
   },
   "outputs": [],
   "source": [
    "def lane_finder_from_past(binary_warped,left_fit,right_fit):\n",
    "    # Assume you now have a new warped binary image \n",
    "    # from the next frame of video (also called \"binary_warped\")\n",
    "    # It's now much easier to find line pixels!\n",
    "    nonzero = binary_warped.nonzero()\n",
    "    nonzeroy = np.array(nonzero[0])\n",
    "    nonzerox = np.array(nonzero[1])\n",
    "    margin = 100\n",
    "    left_lane_inds = ((nonzerox > (left_fit[0]*(nonzeroy**2) + left_fit[1]*nonzeroy + left_fit[2] - margin)) & (nonzerox < (left_fit[0]*(nonzeroy**2) + left_fit[1]*nonzeroy + left_fit[2] + margin))) \n",
    "    right_lane_inds = ((nonzerox > (right_fit[0]*(nonzeroy**2) + right_fit[1]*nonzeroy + right_fit[2] - margin)) & (nonzerox < (right_fit[0]*(nonzeroy**2) + right_fit[1]*nonzeroy + right_fit[2] + margin)))  \n",
    "\n",
    "    # Again, extract left and right line pixel positions\n",
    "    leftx = nonzerox[left_lane_inds]\n",
    "    lefty = nonzeroy[left_lane_inds] \n",
    "    rightx = nonzerox[right_lane_inds]\n",
    "    righty = nonzeroy[right_lane_inds]\n",
    "    # Fit a second order polynomial to each\n",
    "    left_fit,left_cov = np.polyfit(lefty, leftx, 2,cov=True)\n",
    "    right_fit,right_cov = np.polyfit(righty, rightx, 2,cov=True)\n",
    "    # Generate x and y values for plotting\n",
    "    ploty = np.linspace(0, binary_warped.shape[0]-1, binary_warped.shape[0] )\n",
    "    left_fitx = left_fit[0]*ploty**2 + left_fit[1]*ploty + left_fit[2]\n",
    "    right_fitx = right_fit[0]*ploty**2 + right_fit[1]*ploty + right_fit[2]\n",
    "    \n",
    "    return (left_fit,left_cov,right_fit,right_cov)"
   ]
  },
  {
   "cell_type": "code",
   "execution_count": null,
   "metadata": {
    "collapsed": false
   },
   "outputs": [],
   "source": [
    "len(ls_binaries)"
   ]
  },
  {
   "cell_type": "code",
   "execution_count": null,
   "metadata": {
    "collapsed": false
   },
   "outputs": [],
   "source": [
    "lanes=[]\n",
    "for image in ls_binaries:\n",
    "    left_fit,left_cov,right_fit,right_cov = lane_finder(image,debug=True)\n",
    "    plt.figure()\n",
    "    lanes.append([left_fit,right_fit])"
   ]
  },
  {
   "cell_type": "code",
   "execution_count": null,
   "metadata": {
    "collapsed": false
   },
   "outputs": [],
   "source": [
    "# Not in use anymore, provides too much latency for lacking process noise(unknown host yar rate)\n",
    "def Kalman_filter(lane,cov_lane,state,state_cov):\n",
    "    global left_lane\n",
    "    global right_lane\n",
    "    global left_lane_cov\n",
    "    global right_lane_cov\n",
    "    if (state==None):\n",
    "        state = lane\n",
    "        state_cov = cov_lane\n",
    "    else:\n",
    "        residual = lane - state\n",
    "        residual_cov = state_cov + cov_lane\n",
    "        K = np.dot(state_cov,np.linalg.inv(residual_cov))\n",
    "        state = state + np.dot(K,residual)\n",
    "        state_cov = np.dot((np.eye(3) - K),state_cov)\n",
    "    return state, state_cov"
   ]
  },
  {
   "cell_type": "markdown",
   "metadata": {},
   "source": [
    "## *Buffer curve coefficents*"
   ]
  },
  {
   "cell_type": "code",
   "execution_count": null,
   "metadata": {
    "collapsed": true
   },
   "outputs": [],
   "source": [
    "def buffering(coeffs,buff_index,buff_full,current_coeff):\n",
    "    \n",
    "    coeffs[buff_index,:] = current_coeff\n",
    "    buff_index = buff_index + 1\n",
    "    if buff_index == 10:\n",
    "        buff_full = 1\n",
    "        buff_index = 0\n",
    "    \n",
    "    return (coeffs,buff_index,buff_full)"
   ]
  },
  {
   "cell_type": "markdown",
   "metadata": {
    "collapsed": false
   },
   "source": [
    "## *Polygon to display fitted lane curves*"
   ]
  },
  {
   "cell_type": "code",
   "execution_count": null,
   "metadata": {
    "collapsed": false
   },
   "outputs": [],
   "source": [
    "# This function returns a polygon in bird eye's view representing lane lines\n",
    "def create_polygon(lane,image):\n",
    "    ploty = np.linspace(0, image.shape[0]-1, image.shape[0] )\n",
    "    left_fit = lane[0]\n",
    "    right_fit = lane[1]\n",
    "    leftx = left_fit[0]*ploty**2 + left_fit[1]*ploty  + left_fit[2]\n",
    "    rightx = right_fit[0]*ploty**2 + right_fit[1]*ploty  + right_fit[2]    \n",
    "    mask = np.zeros_like(image)\n",
    "    \n",
    "    left_poly = np.dstack((leftx,ploty))\n",
    "    right_poly = np.fliplr(np.dstack((rightx,ploty)))\n",
    "    \n",
    "    pts = np.hstack((left_poly,right_poly)).astype('int') # combination of all points from left and right lanes\n",
    "    \n",
    "    cv2.fillPoly(mask,pts,255)\n",
    "    masked_image= cv2.bitwise_and(np.ones_like(image),mask)\n",
    "    \n",
    "    #return masked_image\n",
    "    return np.dstack(( np.zeros_like(image),masked_image*255,np.zeros_like(image)))"
   ]
  },
  {
   "cell_type": "code",
   "execution_count": null,
   "metadata": {
    "collapsed": false
   },
   "outputs": [],
   "source": [
    "filled_polys=[]\n",
    "for lane in lanes:\n",
    "    poly = create_polygon(lane,np.zeros_like(ls_binary))\n",
    "    filled_polys.append(poly)"
   ]
  },
  {
   "cell_type": "code",
   "execution_count": null,
   "metadata": {
    "collapsed": false
   },
   "outputs": [],
   "source": [
    "len(lanes)"
   ]
  },
  {
   "cell_type": "code",
   "execution_count": null,
   "metadata": {
    "collapsed": false
   },
   "outputs": [],
   "source": [
    "warped_polys = []\n",
    "for i in range(len(filled_polys)):\n",
    "    image = filled_polys[i]\n",
    "    path = 'C:/Users/sbx1238/Documents/p4/CarND-Advanced-Lane-Lines/polygons/'\n",
    "    write_name = path+'polygon'+str(i)+'.jpg'\n",
    "    mpimg.imsave(write_name, image)\n",
    "    image2 = image.copy()\n",
    "    image2 = perspective_transform(image,reverse=True)\n",
    "    warped_polys.append(image2)\n",
    "    path = 'C:/Users/sbx1238/Documents/p4/CarND-Advanced-Lane-Lines/polygons/'\n",
    "    write_name = path+'warped_polygon'+str(i)+'.jpg'\n",
    "    mpimg.imsave(write_name, image2)\n",
    "    f, (ax1, ax2) = plt.subplots(1, 2, figsize=(20,10))\n",
    "    ax1.imshow(image)\n",
    "    ax1.set_title('Original Image', fontsize=30)\n",
    "    ax2.imshow(image2)\n",
    "    ax2.set_title('Warped', fontsize=30)"
   ]
  },
  {
   "cell_type": "markdown",
   "metadata": {},
   "source": [
    "## *Display the lane markings on the original image*"
   ]
  },
  {
   "cell_type": "code",
   "execution_count": null,
   "metadata": {
    "collapsed": false
   },
   "outputs": [],
   "source": [
    "final_images=[]\n",
    "for i in range(len(undist_images)):\n",
    "  \n",
    "    final_image = cv2.addWeighted(undist_images[i], 1, warped_polys[i], 0.3,  0.)\n",
    "    path = 'C:/Users/sbx1238/Documents/p4/CarND-Advanced-Lane-Lines/final_image/'\n",
    "    write_name = path+'final_image'+str(i)+'.jpg'\n",
    "    mpimg.imsave(write_name, final_image)\n",
    "    #final_image = cv2.add(undist_images[i],warped_polys[i])\n",
    "    final_images.append(final_image)\n",
    "    plt.figure()\n",
    "    plt.imshow(final_image)"
   ]
  },
  {
   "cell_type": "markdown",
   "metadata": {},
   "source": [
    "## *Lane curvature in meters*"
   ]
  },
  {
   "cell_type": "code",
   "execution_count": null,
   "metadata": {
    "collapsed": false
   },
   "outputs": [],
   "source": [
    "def find_curvature(lane,image):\n",
    "    ploty = np.linspace(0, 719, num=720)\n",
    "    left_fit = lane[0]\n",
    "    right_fit = lane[1]\n",
    "    leftx = left_fit[0]*ploty**2 + left_fit[1]*ploty  + left_fit[2]\n",
    "    rightx = right_fit[0]*ploty**2 + right_fit[1]*ploty  + right_fit[2]    \n",
    "    \n",
    "    ym_per_pix = 30/720 # meters per pixel in y dimension\n",
    "    xm_per_pix = 3.7/700 # meters per pixel in x dimension\n",
    "\n",
    "    # Fit new polynomials to x,y in world space\n",
    "    y_eval = np.max(ploty)\n",
    "    left_fit_cr = np.polyfit(ploty*ym_per_pix, leftx*xm_per_pix, 2)\n",
    "    right_fit_cr = np.polyfit(ploty*ym_per_pix, rightx*xm_per_pix, 2)\n",
    "    # Calculate the new radii of curvature\n",
    "    left_curverad = ((1 + (2*left_fit_cr[0]*y_eval*ym_per_pix + left_fit_cr[1])**2)**1.5) / np.absolute(2*left_fit_cr[0])\n",
    "    right_curverad = ((1 + (2*right_fit_cr[0]*y_eval*ym_per_pix + right_fit_cr[1])**2)**1.5) / np.absolute(2*right_fit_cr[0])\n",
    "    # Now our radius of curvature is in meters\n",
    "   \n",
    "    cam_wrt_road = ((leftx[int(y_eval)] + rightx[int(y_eval)])/2 - image.shape[1]/2)*xm_per_pix\n",
    "    \n",
    "    \n",
    "    cv2.putText(image,'Left curvature %d (m)'%left_curverad,(850,50),cv2.FONT_HERSHEY_SIMPLEX, 1, [0, 0, 0], 2)\n",
    "    cv2.putText(image,'Right curvature %d (m)'%right_curverad,(850,100),cv2.FONT_HERSHEY_SIMPLEX, 1, [0, 0, 0], 2)\n",
    "    cv2.putText(image,'Camera w.r.t road: {0:.2f} m'.format(cam_wrt_road),(420,700),cv2.FONT_HERSHEY_SIMPLEX, 1, [0, 0, 0], 2)\n",
    "    return image"
   ]
  },
  {
   "cell_type": "markdown",
   "metadata": {},
   "source": [
    "## *Plausibility check for the lane curve coefficents*"
   ]
  },
  {
   "cell_type": "code",
   "execution_count": null,
   "metadata": {
    "collapsed": true
   },
   "outputs": [],
   "source": [
    "def sanity_check(left_fit,to_buffer_left,right_fit,to_buffer_right):\n",
    "    ploty = np.linspace(0, 719, num=720)\n",
    "    \n",
    "    leftx = left_fit[0]*ploty**2 + left_fit[1]*ploty  + left_fit[2]\n",
    "    rightx = right_fit[0]*ploty**2 + right_fit[1]*ploty  + right_fit[2]    \n",
    "    \n",
    "    ym_per_pix = 30/720 # meters per pixel in y dimension\n",
    "    xm_per_pix = 3.7/700 # meters per pixel in x dimension\n",
    "\n",
    "    # Fit new polynomials to x,y in world space\n",
    "    y_eval = np.max(ploty)\n",
    "    left_fit_cr = np.polyfit(ploty*ym_per_pix, leftx*xm_per_pix, 2)\n",
    "    right_fit_cr = np.polyfit(ploty*ym_per_pix, rightx*xm_per_pix, 2)\n",
    "    # Calculate the new radii of curvature\n",
    "    left_curverad = ((1 + (2*left_fit_cr[0]*y_eval*ym_per_pix + left_fit_cr[1])**2)**1.5) / np.absolute(2*left_fit_cr[0])\n",
    "    right_curverad = ((1 + (2*right_fit_cr[0]*y_eval*ym_per_pix + right_fit_cr[1])**2)**1.5) / np.absolute(2*right_fit_cr[0])\n",
    "    # Now our radius of curvature is in meters\n",
    "    if (left_curverad<200 or left_curverad>8000):\n",
    "        to_buffer_left = False\n",
    "        \n",
    "    \n",
    "    if (right_curverad<200 or right_curverad>8000):\n",
    "        to_buffer_right = False\n",
    "        \n",
    "        \n",
    "    return (to_buffer_left,to_buffer_right)"
   ]
  },
  {
   "cell_type": "code",
   "execution_count": null,
   "metadata": {
    "collapsed": false
   },
   "outputs": [],
   "source": [
    "text_images = []\n",
    "for i in range(len(final_images)):\n",
    "    text_image = find_curvature(lanes[i],final_images[i])\n",
    "    path = 'C:/Users/sbx1238/Documents/p4/CarND-Advanced-Lane-Lines/final_image_curvature/'\n",
    "    write_name = path+'final_image_curvature'+str(i)+'.jpg'\n",
    "    mpimg.imsave(write_name, text_image)\n",
    "    text_images.append(text_image)\n",
    "    plt.figure()\n",
    "    plt.imshow(text_image)"
   ]
  },
  {
   "cell_type": "markdown",
   "metadata": {},
   "source": [
    "## *Complete pipeline*"
   ]
  },
  {
   "cell_type": "code",
   "execution_count": null,
   "metadata": {
    "collapsed": false
   },
   "outputs": [],
   "source": [
    "def process_image(image):\n",
    "    \n",
    "    global left_lane\n",
    "    global avg_left_lane\n",
    "    global left_buff_index\n",
    "    global left_buff_full \n",
    "\n",
    "    global right_lane\n",
    "    global avg_right_lane\n",
    "    global right_buff_index\n",
    "    global right_buff_full\n",
    "    \n",
    "    \n",
    "    #print(np.sum(left_lane))\n",
    "    #print(np.sum(right_lane))\n",
    "\n",
    "    undist_image = cv2.undistort(image, mtx, dist, None, mtx)\n",
    "    warped_image = perspective_transform(undist_image)\n",
    "    ls_binary = lightness_saturation(warped_image)\n",
    "    if (np.sum(left_lane)==0.0 and np.sum(right_lane)==0.0):\n",
    "        left_fit,left_cov,right_fit,right_cov = lane_finder(ls_binary,debug=False)\n",
    "    else:\n",
    "        left_fit,left_cov,right_fit,right_cov = lane_finder_from_past(ls_binary,avg_left_lane,avg_right_lane)\n",
    "    #print(left_fit)\n",
    "    #print(left_cov)\n",
    "    #print(right_fit)\n",
    "    #print(right_cov)\n",
    "    to_buffer_left = True\n",
    "    to_buffer_right = True\n",
    "    to_buffer_left,to_buffer_right = sanity_check(left_fit,to_buffer_left,right_fit,to_buffer_right)\n",
    "    if (to_buffer_left==True):\n",
    "        left_lane,left_buff_index,left_buff_full  = buffering(left_lane,left_buff_index,left_buff_full,left_fit)\n",
    "        \n",
    "    if left_buff_full == 1:\n",
    "        denom = 10\n",
    "    else:\n",
    "        denom = left_buff_index\n",
    "    avg_left_lane = np.sum(left_lane,axis=0)/denom\n",
    "    #print(left_lane)\n",
    "    #print(avg_left_lane)\n",
    "    #left_lane,left_lane_cov = Kalman_filter(left_fit,left_cov,left_lane,left_lane_cov)\n",
    "    #left_lane = a\n",
    "    #left_lane_cov = b\n",
    "    #right_lane,right_lane_cov = Kalman_filter(right_fit,right_cov,right_lane,right_lane_cov)\n",
    "    #right_lane = c\n",
    "    #right_lane_cov = d\n",
    "    \n",
    "    if (to_buffer_right==True):\n",
    "        right_lane,right_buff_index,right_buff_full  = buffering(right_lane,right_buff_index,right_buff_full,right_fit)\n",
    "        \n",
    "    if right_buff_full == 1:\n",
    "        denom = 10\n",
    "    else:\n",
    "         denom = right_buff_index\n",
    "    avg_right_lane = np.sum(right_lane,axis=0)/denom\n",
    "    #print(right_lane)\n",
    "    #print(avg_right_lane)\n",
    "    \n",
    "    poly = create_polygon([avg_left_lane,avg_right_lane],np.zeros_like(ls_binary))\n",
    "    image2 = perspective_transform(poly,reverse=True)\n",
    "    final_image = cv2.addWeighted(undist_image, 1, image2, 0.3,  0.)\n",
    "    text_image = find_curvature([avg_left_lane,avg_right_lane],final_image)\n",
    "    return text_image\n",
    "    #print(np.max(image))\n",
    "    #print(np.min(image))\n",
    "    #print(image.shape)\n",
    "    #return image"
   ]
  },
  {
   "cell_type": "markdown",
   "metadata": {},
   "source": [
    "## *Processing video stream*"
   ]
  },
  {
   "cell_type": "code",
   "execution_count": null,
   "metadata": {
    "collapsed": false
   },
   "outputs": [],
   "source": [
    "global left_lane\n",
    "global avg_left_lane\n",
    "global left_buff_index\n",
    "global left_buff_full \n",
    "\n",
    "global right_lane\n",
    "global avg_right_lane\n",
    "global right_buff_index\n",
    "global right_buff_full \n",
    "\n",
    "left_lane = np.zeros((10,3))\n",
    "avg_left_lane = None\n",
    "left_buff_full = 0\n",
    "left_buff_index=0\n",
    "    \n",
    "right_lane = np.zeros((10,3))\n",
    "avg_right_lane = None\n",
    "right_buff_full = 0\n",
    "right_buff_index=0\n",
    "\n",
    "project_output_file = \"project_output.mp4\"\n",
    "project_video = VideoFileClip(r\"C:\\Users\\sbx1238\\Documents\\p4\\CarND-Advanced-Lane-Lines\\project_video.mp4\")\n",
    "\n",
    "project_output = project_video.fl_image(process_image)\n",
    "%time project_output.write_videofile(project_output_file, audio=False)"
   ]
  },
  {
   "cell_type": "code",
   "execution_count": null,
   "metadata": {
    "collapsed": true
   },
   "outputs": [],
   "source": []
  }
 ],
 "metadata": {
  "anaconda-cloud": {},
  "kernelspec": {
   "display_name": "Python [conda root]",
   "language": "python",
   "name": "conda-root-py"
  },
  "language_info": {
   "codemirror_mode": {
    "name": "ipython",
    "version": 3
   },
   "file_extension": ".py",
   "mimetype": "text/x-python",
   "name": "python",
   "nbconvert_exporter": "python",
   "pygments_lexer": "ipython3",
   "version": "3.5.2"
  }
 },
 "nbformat": 4,
 "nbformat_minor": 1
}
